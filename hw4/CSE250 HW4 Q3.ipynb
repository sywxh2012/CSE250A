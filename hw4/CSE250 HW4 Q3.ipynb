{
 "cells": [
  {
   "cell_type": "code",
   "execution_count": 18,
   "metadata": {},
   "outputs": [],
   "source": [
    "import numpy as np\n",
    "import pandas as pd\n",
    "import matplotlib.pyplot as plt\n",
    "from numpy.linalg import *\n",
    "import math"
   ]
  },
  {
   "cell_type": "code",
   "execution_count": 114,
   "metadata": {},
   "outputs": [],
   "source": [
    "unigram = pd.read_csv('hw4_unigram.txt', sep=\" \", header=None)   #df for unigram\n",
    "unigram.columns = ['count(w)']\n",
    "vocab = np.loadtxt(fname = \"hw4_vocab.txt\", dtype='str')   #array of vocabs\n",
    "bigram = pd.read_csv('hw4_bigram.txt', sep=\"\\t\", header=None)   #df for bigram\n",
    "bigram.columns = ['index(w1)', 'index(w2)','count(w1,w2)']"
   ]
  },
  {
   "cell_type": "markdown",
   "metadata": {},
   "source": [
    "## (a)"
   ]
  },
  {
   "cell_type": "code",
   "execution_count": 115,
   "metadata": {},
   "outputs": [
    {
     "data": {
      "text/html": [
       "<div>\n",
       "<style scoped>\n",
       "    .dataframe tbody tr th:only-of-type {\n",
       "        vertical-align: middle;\n",
       "    }\n",
       "\n",
       "    .dataframe tbody tr th {\n",
       "        vertical-align: top;\n",
       "    }\n",
       "\n",
       "    .dataframe thead th {\n",
       "        text-align: right;\n",
       "    }\n",
       "</style>\n",
       "<table border=\"1\" class=\"dataframe\">\n",
       "  <thead>\n",
       "    <tr style=\"text-align: right;\">\n",
       "      <th></th>\n",
       "      <th>count(w)</th>\n",
       "      <th>pu(w)</th>\n",
       "    </tr>\n",
       "  </thead>\n",
       "  <tbody>\n",
       "    <tr>\n",
       "      <th>0</th>\n",
       "      <td>25223698</td>\n",
       "      <td>0.308490</td>\n",
       "    </tr>\n",
       "    <tr>\n",
       "      <th>1</th>\n",
       "      <td>3021866</td>\n",
       "      <td>0.036958</td>\n",
       "    </tr>\n",
       "    <tr>\n",
       "      <th>2</th>\n",
       "      <td>3021866</td>\n",
       "      <td>0.036958</td>\n",
       "    </tr>\n",
       "    <tr>\n",
       "      <th>3</th>\n",
       "      <td>3855375</td>\n",
       "      <td>0.047152</td>\n",
       "    </tr>\n",
       "    <tr>\n",
       "      <th>4</th>\n",
       "      <td>3667333</td>\n",
       "      <td>0.044852</td>\n",
       "    </tr>\n",
       "  </tbody>\n",
       "</table>\n",
       "</div>"
      ],
      "text/plain": [
       "   count(w)     pu(w)\n",
       "0  25223698  0.308490\n",
       "1   3021866  0.036958\n",
       "2   3021866  0.036958\n",
       "3   3855375  0.047152\n",
       "4   3667333  0.044852"
      ]
     },
     "execution_count": 115,
     "metadata": {},
     "output_type": "execute_result"
    }
   ],
   "source": [
    "# compute unigram probabilities\n",
    "unigram.loc[:, 'pu(w)'] = unigram['count(w)'].apply(lambda x: x/sum(unigram['count(w)']))\n",
    "unigram.head()"
   ]
  },
  {
   "cell_type": "code",
   "execution_count": 86,
   "metadata": {},
   "outputs": [],
   "source": [
    "letters = ['A']\n",
    "output_names = [name for name in vocab if (name[0] in letters)]"
   ]
  },
  {
   "cell_type": "code",
   "execution_count": 87,
   "metadata": {},
   "outputs": [],
   "source": [
    "def FindWordIndex(vocab, words):\n",
    "    indexes = np.zeros((len(words),1))\n",
    "    for i in range(len(words)):\n",
    "        indexes[i] = np.argwhere(vocab == words[i] ) \n",
    "    return indexes\n",
    "\n",
    "indexes = FindWordIndex(vocab, output_names)\n",
    "\n",
    "def GetPu(indexes,unigram):\n",
    "    Pu = np.zeros((indexes.shape[0],1))\n",
    "    for i in range(indexes.shape[0]):\n",
    "        Pu[i] = unigram.values[int(indexes[i,0]),1]\n",
    "    return Pu\n",
    "\n",
    "Pu = GetPu(indexes,unigram)"
   ]
  },
  {
   "cell_type": "code",
   "execution_count": 88,
   "metadata": {},
   "outputs": [
    {
     "data": {
      "text/html": [
       "<div>\n",
       "<style scoped>\n",
       "    .dataframe tbody tr th:only-of-type {\n",
       "        vertical-align: middle;\n",
       "    }\n",
       "\n",
       "    .dataframe tbody tr th {\n",
       "        vertical-align: top;\n",
       "    }\n",
       "\n",
       "    .dataframe thead th {\n",
       "        text-align: right;\n",
       "    }\n",
       "</style>\n",
       "<table border=\"1\" class=\"dataframe\">\n",
       "  <thead>\n",
       "    <tr style=\"text-align: right;\">\n",
       "      <th></th>\n",
       "      <th>word start with A</th>\n",
       "      <th>Pu(w)</th>\n",
       "    </tr>\n",
       "  </thead>\n",
       "  <tbody>\n",
       "    <tr>\n",
       "      <th>0</th>\n",
       "      <td>A</td>\n",
       "      <td>0.018407</td>\n",
       "    </tr>\n",
       "    <tr>\n",
       "      <th>1</th>\n",
       "      <td>AND</td>\n",
       "      <td>0.017863</td>\n",
       "    </tr>\n",
       "    <tr>\n",
       "      <th>2</th>\n",
       "      <td>AT</td>\n",
       "      <td>0.004313</td>\n",
       "    </tr>\n",
       "    <tr>\n",
       "      <th>3</th>\n",
       "      <td>AS</td>\n",
       "      <td>0.003992</td>\n",
       "    </tr>\n",
       "    <tr>\n",
       "      <th>4</th>\n",
       "      <td>AN</td>\n",
       "      <td>0.002999</td>\n",
       "    </tr>\n",
       "    <tr>\n",
       "      <th>5</th>\n",
       "      <td>ARE</td>\n",
       "      <td>0.002990</td>\n",
       "    </tr>\n",
       "    <tr>\n",
       "      <th>6</th>\n",
       "      <td>ABOUT</td>\n",
       "      <td>0.001926</td>\n",
       "    </tr>\n",
       "    <tr>\n",
       "      <th>7</th>\n",
       "      <td>AFTER</td>\n",
       "      <td>0.001347</td>\n",
       "    </tr>\n",
       "    <tr>\n",
       "      <th>8</th>\n",
       "      <td>ALSO</td>\n",
       "      <td>0.001310</td>\n",
       "    </tr>\n",
       "    <tr>\n",
       "      <th>9</th>\n",
       "      <td>ALL</td>\n",
       "      <td>0.001182</td>\n",
       "    </tr>\n",
       "    <tr>\n",
       "      <th>10</th>\n",
       "      <td>A.</td>\n",
       "      <td>0.001026</td>\n",
       "    </tr>\n",
       "    <tr>\n",
       "      <th>11</th>\n",
       "      <td>ANY</td>\n",
       "      <td>0.000632</td>\n",
       "    </tr>\n",
       "    <tr>\n",
       "      <th>12</th>\n",
       "      <td>AMERICAN</td>\n",
       "      <td>0.000612</td>\n",
       "    </tr>\n",
       "    <tr>\n",
       "      <th>13</th>\n",
       "      <td>AGAINST</td>\n",
       "      <td>0.000596</td>\n",
       "    </tr>\n",
       "    <tr>\n",
       "      <th>14</th>\n",
       "      <td>ANOTHER</td>\n",
       "      <td>0.000428</td>\n",
       "    </tr>\n",
       "    <tr>\n",
       "      <th>15</th>\n",
       "      <td>AMONG</td>\n",
       "      <td>0.000374</td>\n",
       "    </tr>\n",
       "    <tr>\n",
       "      <th>16</th>\n",
       "      <td>AGO</td>\n",
       "      <td>0.000357</td>\n",
       "    </tr>\n",
       "    <tr>\n",
       "      <th>17</th>\n",
       "      <td>ACCORDING</td>\n",
       "      <td>0.000348</td>\n",
       "    </tr>\n",
       "    <tr>\n",
       "      <th>18</th>\n",
       "      <td>AIR</td>\n",
       "      <td>0.000311</td>\n",
       "    </tr>\n",
       "    <tr>\n",
       "      <th>19</th>\n",
       "      <td>ADMINISTRATION</td>\n",
       "      <td>0.000292</td>\n",
       "    </tr>\n",
       "    <tr>\n",
       "      <th>20</th>\n",
       "      <td>AGENCY</td>\n",
       "      <td>0.000280</td>\n",
       "    </tr>\n",
       "    <tr>\n",
       "      <th>21</th>\n",
       "      <td>AROUND</td>\n",
       "      <td>0.000277</td>\n",
       "    </tr>\n",
       "    <tr>\n",
       "      <th>22</th>\n",
       "      <td>AGREEMENT</td>\n",
       "      <td>0.000263</td>\n",
       "    </tr>\n",
       "    <tr>\n",
       "      <th>23</th>\n",
       "      <td>AVERAGE</td>\n",
       "      <td>0.000259</td>\n",
       "    </tr>\n",
       "    <tr>\n",
       "      <th>24</th>\n",
       "      <td>ASKED</td>\n",
       "      <td>0.000258</td>\n",
       "    </tr>\n",
       "    <tr>\n",
       "      <th>25</th>\n",
       "      <td>ALREADY</td>\n",
       "      <td>0.000249</td>\n",
       "    </tr>\n",
       "    <tr>\n",
       "      <th>26</th>\n",
       "      <td>AREA</td>\n",
       "      <td>0.000231</td>\n",
       "    </tr>\n",
       "    <tr>\n",
       "      <th>27</th>\n",
       "      <td>ANALYSTS</td>\n",
       "      <td>0.000226</td>\n",
       "    </tr>\n",
       "    <tr>\n",
       "      <th>28</th>\n",
       "      <td>ANNOUNCED</td>\n",
       "      <td>0.000227</td>\n",
       "    </tr>\n",
       "    <tr>\n",
       "      <th>29</th>\n",
       "      <td>ADDED</td>\n",
       "      <td>0.000221</td>\n",
       "    </tr>\n",
       "    <tr>\n",
       "      <th>30</th>\n",
       "      <td>ALTHOUGH</td>\n",
       "      <td>0.000214</td>\n",
       "    </tr>\n",
       "    <tr>\n",
       "      <th>31</th>\n",
       "      <td>AGREED</td>\n",
       "      <td>0.000212</td>\n",
       "    </tr>\n",
       "    <tr>\n",
       "      <th>32</th>\n",
       "      <td>APRIL</td>\n",
       "      <td>0.000207</td>\n",
       "    </tr>\n",
       "    <tr>\n",
       "      <th>33</th>\n",
       "      <td>AWAY</td>\n",
       "      <td>0.000202</td>\n",
       "    </tr>\n",
       "  </tbody>\n",
       "</table>\n",
       "</div>"
      ],
      "text/plain": [
       "   word start with A     Pu(w)\n",
       "0                  A  0.018407\n",
       "1                AND  0.017863\n",
       "2                 AT  0.004313\n",
       "3                 AS  0.003992\n",
       "4                 AN  0.002999\n",
       "5                ARE  0.002990\n",
       "6              ABOUT  0.001926\n",
       "7              AFTER  0.001347\n",
       "8               ALSO  0.001310\n",
       "9                ALL  0.001182\n",
       "10                A.  0.001026\n",
       "11               ANY  0.000632\n",
       "12          AMERICAN  0.000612\n",
       "13           AGAINST  0.000596\n",
       "14           ANOTHER  0.000428\n",
       "15             AMONG  0.000374\n",
       "16               AGO  0.000357\n",
       "17         ACCORDING  0.000348\n",
       "18               AIR  0.000311\n",
       "19    ADMINISTRATION  0.000292\n",
       "20            AGENCY  0.000280\n",
       "21            AROUND  0.000277\n",
       "22         AGREEMENT  0.000263\n",
       "23           AVERAGE  0.000259\n",
       "24             ASKED  0.000258\n",
       "25           ALREADY  0.000249\n",
       "26              AREA  0.000231\n",
       "27          ANALYSTS  0.000226\n",
       "28         ANNOUNCED  0.000227\n",
       "29             ADDED  0.000221\n",
       "30          ALTHOUGH  0.000214\n",
       "31            AGREED  0.000212\n",
       "32             APRIL  0.000207\n",
       "33              AWAY  0.000202"
      ]
     },
     "execution_count": 88,
     "metadata": {},
     "output_type": "execute_result"
    }
   ],
   "source": [
    "# tokens start with A and their unigram probabilities\n",
    "TableA = pd.DataFrame(data = output_names)\n",
    "TableA.columns = ['word start with A']\n",
    "TableA.loc[:,'Pu(w)'] = Pu\n",
    "TableA"
   ]
  },
  {
   "cell_type": "markdown",
   "metadata": {},
   "source": [
    "## (b)"
   ]
  },
  {
   "cell_type": "code",
   "execution_count": 157,
   "metadata": {},
   "outputs": [
    {
     "data": {
      "text/html": [
       "<div>\n",
       "<style scoped>\n",
       "    .dataframe tbody tr th:only-of-type {\n",
       "        vertical-align: middle;\n",
       "    }\n",
       "\n",
       "    .dataframe tbody tr th {\n",
       "        vertical-align: top;\n",
       "    }\n",
       "\n",
       "    .dataframe thead th {\n",
       "        text-align: right;\n",
       "    }\n",
       "</style>\n",
       "<table border=\"1\" class=\"dataframe\">\n",
       "  <thead>\n",
       "    <tr style=\"text-align: right;\">\n",
       "      <th></th>\n",
       "      <th>index(w1)</th>\n",
       "      <th>index(w2)</th>\n",
       "      <th>count(w1,w2)</th>\n",
       "      <th>sum count(w1,w2)</th>\n",
       "      <th>pb(w2|w1)</th>\n",
       "    </tr>\n",
       "  </thead>\n",
       "  <tbody>\n",
       "    <tr>\n",
       "      <th>0</th>\n",
       "      <td>1</td>\n",
       "      <td>1</td>\n",
       "      <td>7355976</td>\n",
       "      <td>25223698</td>\n",
       "      <td>0.291630</td>\n",
       "    </tr>\n",
       "    <tr>\n",
       "      <th>1</th>\n",
       "      <td>1</td>\n",
       "      <td>3</td>\n",
       "      <td>5645</td>\n",
       "      <td>25223698</td>\n",
       "      <td>0.000224</td>\n",
       "    </tr>\n",
       "    <tr>\n",
       "      <th>2</th>\n",
       "      <td>1</td>\n",
       "      <td>4</td>\n",
       "      <td>647219</td>\n",
       "      <td>25223698</td>\n",
       "      <td>0.025659</td>\n",
       "    </tr>\n",
       "    <tr>\n",
       "      <th>3</th>\n",
       "      <td>1</td>\n",
       "      <td>5</td>\n",
       "      <td>2373160</td>\n",
       "      <td>25223698</td>\n",
       "      <td>0.094085</td>\n",
       "    </tr>\n",
       "    <tr>\n",
       "      <th>4</th>\n",
       "      <td>1</td>\n",
       "      <td>6</td>\n",
       "      <td>1801245</td>\n",
       "      <td>25223698</td>\n",
       "      <td>0.071411</td>\n",
       "    </tr>\n",
       "  </tbody>\n",
       "</table>\n",
       "</div>"
      ],
      "text/plain": [
       "   index(w1)  index(w2)  count(w1,w2)  sum count(w1,w2)  pb(w2|w1)\n",
       "0          1          1       7355976          25223698   0.291630\n",
       "1          1          3          5645          25223698   0.000224\n",
       "2          1          4        647219          25223698   0.025659\n",
       "3          1          5       2373160          25223698   0.094085\n",
       "4          1          6       1801245          25223698   0.071411"
      ]
     },
     "execution_count": 157,
     "metadata": {},
     "output_type": "execute_result"
    }
   ],
   "source": [
    "#\n",
    "bigram['sum count(w1,w2)'] = bigram['count(w1,w2)'].groupby(bigram['index(w1)']).transform('sum')\n",
    "bigram['pb(w2|w1)'] = (bigram['count(w1,w2)']/bigram['sum count(w1,w2)'])\n",
    "bigram.head()"
   ]
  },
  {
   "cell_type": "code",
   "execution_count": 153,
   "metadata": {},
   "outputs": [],
   "source": [
    "#find index of THE\n",
    "index_the = np.argwhere(vocab == \"THE\" ) \n",
    "bigram_the = bigram[(index_the[0,0]-1)*496+1:(index_the[0,0])*499-33]\n",
    "bigram_the_5 = bigram_the.sort_values('pb(w2|w1)', ascending=False).head(5)"
   ]
  },
  {
   "cell_type": "code",
   "execution_count": 155,
   "metadata": {},
   "outputs": [],
   "source": [
    "word1 = vocab[0]\n",
    "word2 = vocab[69]\n",
    "word3 = vocab[78]\n",
    "word4 = vocab[72]\n",
    "word5 = vocab[60]\n",
    "likely_words = [word1,word2,word3,word4,word5]\n",
    "bigram_the_5['words to follow THE'] = likely_words"
   ]
  },
  {
   "cell_type": "code",
   "execution_count": 156,
   "metadata": {},
   "outputs": [
    {
     "data": {
      "text/html": [
       "<div>\n",
       "<style scoped>\n",
       "    .dataframe tbody tr th:only-of-type {\n",
       "        vertical-align: middle;\n",
       "    }\n",
       "\n",
       "    .dataframe tbody tr th {\n",
       "        vertical-align: top;\n",
       "    }\n",
       "\n",
       "    .dataframe thead th {\n",
       "        text-align: right;\n",
       "    }\n",
       "</style>\n",
       "<table border=\"1\" class=\"dataframe\">\n",
       "  <thead>\n",
       "    <tr style=\"text-align: right;\">\n",
       "      <th></th>\n",
       "      <th>index(w1)</th>\n",
       "      <th>index(w2)</th>\n",
       "      <th>count(w1,w2)</th>\n",
       "      <th>sum count(w1,w2)</th>\n",
       "      <th>pb(w2|w1)</th>\n",
       "      <th>words to follow THE</th>\n",
       "    </tr>\n",
       "  </thead>\n",
       "  <tbody>\n",
       "    <tr>\n",
       "      <th>993</th>\n",
       "      <td>4</td>\n",
       "      <td>1</td>\n",
       "      <td>2371132</td>\n",
       "      <td>3855375</td>\n",
       "      <td>0.615020</td>\n",
       "      <td>&lt;UNK&gt;</td>\n",
       "    </tr>\n",
       "    <tr>\n",
       "      <th>1058</th>\n",
       "      <td>4</td>\n",
       "      <td>70</td>\n",
       "      <td>51556</td>\n",
       "      <td>3855375</td>\n",
       "      <td>0.013372</td>\n",
       "      <td>U.</td>\n",
       "    </tr>\n",
       "    <tr>\n",
       "      <th>1064</th>\n",
       "      <td>4</td>\n",
       "      <td>79</td>\n",
       "      <td>45186</td>\n",
       "      <td>3855375</td>\n",
       "      <td>0.011720</td>\n",
       "      <td>FIRST</td>\n",
       "    </tr>\n",
       "    <tr>\n",
       "      <th>1060</th>\n",
       "      <td>4</td>\n",
       "      <td>73</td>\n",
       "      <td>44949</td>\n",
       "      <td>3855375</td>\n",
       "      <td>0.011659</td>\n",
       "      <td>COMPANY</td>\n",
       "    </tr>\n",
       "    <tr>\n",
       "      <th>1050</th>\n",
       "      <td>4</td>\n",
       "      <td>61</td>\n",
       "      <td>36439</td>\n",
       "      <td>3855375</td>\n",
       "      <td>0.009451</td>\n",
       "      <td>NEW</td>\n",
       "    </tr>\n",
       "  </tbody>\n",
       "</table>\n",
       "</div>"
      ],
      "text/plain": [
       "      index(w1)  index(w2)  count(w1,w2)  sum count(w1,w2)  pb(w2|w1)  \\\n",
       "993           4          1       2371132           3855375   0.615020   \n",
       "1058          4         70         51556           3855375   0.013372   \n",
       "1064          4         79         45186           3855375   0.011720   \n",
       "1060          4         73         44949           3855375   0.011659   \n",
       "1050          4         61         36439           3855375   0.009451   \n",
       "\n",
       "     words to follow THE  \n",
       "993                <UNK>  \n",
       "1058                  U.  \n",
       "1064               FIRST  \n",
       "1060             COMPANY  \n",
       "1050                 NEW  "
      ]
     },
     "execution_count": 156,
     "metadata": {},
     "output_type": "execute_result"
    }
   ],
   "source": [
    "# 5 most likely words to follow THE and their conditional probabilities\n",
    "bigram_the_5"
   ]
  },
  {
   "cell_type": "markdown",
   "metadata": {},
   "source": [
    "## (c)"
   ]
  },
  {
   "cell_type": "code",
   "execution_count": 122,
   "metadata": {},
   "outputs": [
    {
     "name": "stdout",
     "output_type": "stream",
     "text": [
      "Lu is:   -64.50944034364878\n"
     ]
    }
   ],
   "source": [
    "# calculate Lu\n",
    "words = ['LAST','WEEK','THE','STOCK','MARKET','FELL','BY','ONE','HUNDRED','POINTS']\n",
    "index_c = FindWordIndex(vocab, words)\n",
    "Pu_c = GetPu(index_c,unigram)\n",
    "l_u = np.log(np.prod(Pu_c))\n",
    "print(\"Lu is:  \", l_u)"
   ]
  },
  {
   "cell_type": "code",
   "execution_count": 212,
   "metadata": {},
   "outputs": [
    {
     "name": "stdout",
     "output_type": "stream",
     "text": [
      "Lb is:   -44.740469213403735\n"
     ]
    }
   ],
   "source": [
    "# calculate Lb\n",
    "def Pb(vocab,first,second,bigram):\n",
    "    first_idx = np.argwhere(vocab == first)[0,0]\n",
    "    second_idx = np.argwhere(vocab == second )[0,0] \n",
    "    i1 = bigram.index[bigram['index(w1)'] == first_idx+1]\n",
    "    i2 = bigram.index[bigram['index(w2)'] == second_idx+1]\n",
    "    if bool(set(i1).intersection(i2)):\n",
    "        i = list(set(i1).intersection(i2))[0]\n",
    "        pb = bigram.values[i,4]\n",
    "    else:\n",
    "        print(\"Not found in corpus\", first, second)\n",
    "    return pb\n",
    "\n",
    "l_b_c = np.log(Pb(vocab,'<s>','LAST',bigram)*Pb(vocab,'LAST','WEEK',bigram)* Pb(vocab,'WEEK','THE',bigram)\\\n",
    "           *Pb(vocab,'THE','STOCK',bigram)*Pb(vocab,'STOCK','MARKET',bigram)*Pb(vocab,'MARKET','FELL',bigram)\\\n",
    "           *Pb(vocab,'FELL','BY',bigram)*Pb(vocab,'BY','ONE',bigram)*Pb(vocab,'ONE','HUNDRED',bigram)\\\n",
    "           *Pb(vocab,'HUNDRED','POINTS',bigram))\n",
    "    \n",
    "print(\"Lb is:  \", l_b_c)"
   ]
  },
  {
   "cell_type": "markdown",
   "metadata": {},
   "source": [
    "Lb > Lu, thus the bigram model yields higher log likelihood."
   ]
  },
  {
   "cell_type": "markdown",
   "metadata": {},
   "source": [
    "## (d)"
   ]
  },
  {
   "cell_type": "code",
   "execution_count": 213,
   "metadata": {},
   "outputs": [
    {
     "name": "stdout",
     "output_type": "stream",
     "text": [
      "Lu is:   -41.64345971649364\n"
     ]
    }
   ],
   "source": [
    "# calculate Lu\n",
    "words_d = ['THE','NINETEEN','OFFICIALS','SOLD','FIRE','INSURANCE']\n",
    "index_d = FindWordIndex(vocab, words_d)\n",
    "Pu_d = GetPu(index_d,unigram)\n",
    "l_u_d = np.log(np.prod(Pu_d))\n",
    "print(\"Lu is:  \", l_u_d)"
   ]
  },
  {
   "cell_type": "code",
   "execution_count": 214,
   "metadata": {},
   "outputs": [
    {
     "name": "stdout",
     "output_type": "stream",
     "text": [
      "Not found in corpus NINETEEN OFFICIALS\n"
     ]
    },
    {
     "ename": "UnboundLocalError",
     "evalue": "local variable 'pb' referenced before assignment",
     "output_type": "error",
     "traceback": [
      "\u001b[0;31m---------------------------------------------------------------------------\u001b[0m",
      "\u001b[0;31mUnboundLocalError\u001b[0m                         Traceback (most recent call last)",
      "\u001b[0;32m<ipython-input-214-3927fc3f5c6e>\u001b[0m in \u001b[0;36m<module>\u001b[0;34m()\u001b[0m\n\u001b[1;32m      1\u001b[0m \u001b[0;31m# calculate Lb\u001b[0m\u001b[0;34m\u001b[0m\u001b[0;34m\u001b[0m\u001b[0m\n\u001b[0;32m----> 2\u001b[0;31m \u001b[0ml_b_d\u001b[0m \u001b[0;34m=\u001b[0m \u001b[0mnp\u001b[0m\u001b[0;34m.\u001b[0m\u001b[0mlog\u001b[0m\u001b[0;34m(\u001b[0m\u001b[0mPb\u001b[0m\u001b[0;34m(\u001b[0m\u001b[0mvocab\u001b[0m\u001b[0;34m,\u001b[0m\u001b[0;34m'<s>'\u001b[0m\u001b[0;34m,\u001b[0m\u001b[0;34m'THE'\u001b[0m\u001b[0;34m,\u001b[0m\u001b[0mbigram\u001b[0m\u001b[0;34m)\u001b[0m\u001b[0;34m*\u001b[0m\u001b[0mPb\u001b[0m\u001b[0;34m(\u001b[0m\u001b[0mvocab\u001b[0m\u001b[0;34m,\u001b[0m\u001b[0;34m'THE'\u001b[0m\u001b[0;34m,\u001b[0m\u001b[0;34m'NINETEEN'\u001b[0m\u001b[0;34m,\u001b[0m\u001b[0mbigram\u001b[0m\u001b[0;34m)\u001b[0m\u001b[0;34m*\u001b[0m \u001b[0mPb\u001b[0m\u001b[0;34m(\u001b[0m\u001b[0mvocab\u001b[0m\u001b[0;34m,\u001b[0m\u001b[0;34m'NINETEEN'\u001b[0m\u001b[0;34m,\u001b[0m\u001b[0;34m'OFFICIALS'\u001b[0m\u001b[0;34m,\u001b[0m\u001b[0mbigram\u001b[0m\u001b[0;34m)\u001b[0m           \u001b[0;34m*\u001b[0m\u001b[0mPb\u001b[0m\u001b[0;34m(\u001b[0m\u001b[0mvocab\u001b[0m\u001b[0;34m,\u001b[0m\u001b[0;34m'OFFICIALS'\u001b[0m\u001b[0;34m,\u001b[0m\u001b[0;34m'SOLD'\u001b[0m\u001b[0;34m,\u001b[0m\u001b[0mbigram\u001b[0m\u001b[0;34m)\u001b[0m\u001b[0;34m*\u001b[0m\u001b[0mPb\u001b[0m\u001b[0;34m(\u001b[0m\u001b[0mvocab\u001b[0m\u001b[0;34m,\u001b[0m\u001b[0;34m'SOLD'\u001b[0m\u001b[0;34m,\u001b[0m\u001b[0;34m'FIRE'\u001b[0m\u001b[0;34m,\u001b[0m\u001b[0mbigram\u001b[0m\u001b[0;34m)\u001b[0m\u001b[0;34m*\u001b[0m\u001b[0mPb\u001b[0m\u001b[0;34m(\u001b[0m\u001b[0mvocab\u001b[0m\u001b[0;34m,\u001b[0m\u001b[0;34m'FIRE'\u001b[0m\u001b[0;34m,\u001b[0m\u001b[0;34m'INSURANCE'\u001b[0m\u001b[0;34m,\u001b[0m\u001b[0mbigram\u001b[0m\u001b[0;34m)\u001b[0m\u001b[0;34m)\u001b[0m\u001b[0;34m\u001b[0m\u001b[0m\n\u001b[0m",
      "\u001b[0;32m<ipython-input-212-ced86e3a348e>\u001b[0m in \u001b[0;36mPb\u001b[0;34m(vocab, first, second, bigram)\u001b[0m\n\u001b[1;32m     10\u001b[0m     \u001b[0;32melse\u001b[0m\u001b[0;34m:\u001b[0m\u001b[0;34m\u001b[0m\u001b[0m\n\u001b[1;32m     11\u001b[0m         \u001b[0mprint\u001b[0m\u001b[0;34m(\u001b[0m\u001b[0;34m\"Not found in corpus\"\u001b[0m\u001b[0;34m,\u001b[0m \u001b[0mfirst\u001b[0m\u001b[0;34m,\u001b[0m \u001b[0msecond\u001b[0m\u001b[0;34m)\u001b[0m\u001b[0;34m\u001b[0m\u001b[0m\n\u001b[0;32m---> 12\u001b[0;31m     \u001b[0;32mreturn\u001b[0m \u001b[0mpb\u001b[0m\u001b[0;34m\u001b[0m\u001b[0m\n\u001b[0m\u001b[1;32m     13\u001b[0m \u001b[0;34m\u001b[0m\u001b[0m\n\u001b[1;32m     14\u001b[0m \u001b[0ml_b_c\u001b[0m \u001b[0;34m=\u001b[0m \u001b[0mnp\u001b[0m\u001b[0;34m.\u001b[0m\u001b[0mlog\u001b[0m\u001b[0;34m(\u001b[0m\u001b[0mPb\u001b[0m\u001b[0;34m(\u001b[0m\u001b[0mvocab\u001b[0m\u001b[0;34m,\u001b[0m\u001b[0;34m'<s>'\u001b[0m\u001b[0;34m,\u001b[0m\u001b[0;34m'LAST'\u001b[0m\u001b[0;34m,\u001b[0m\u001b[0mbigram\u001b[0m\u001b[0;34m)\u001b[0m\u001b[0;34m*\u001b[0m\u001b[0mPb\u001b[0m\u001b[0;34m(\u001b[0m\u001b[0mvocab\u001b[0m\u001b[0;34m,\u001b[0m\u001b[0;34m'LAST'\u001b[0m\u001b[0;34m,\u001b[0m\u001b[0;34m'WEEK'\u001b[0m\u001b[0;34m,\u001b[0m\u001b[0mbigram\u001b[0m\u001b[0;34m)\u001b[0m\u001b[0;34m*\u001b[0m \u001b[0mPb\u001b[0m\u001b[0;34m(\u001b[0m\u001b[0mvocab\u001b[0m\u001b[0;34m,\u001b[0m\u001b[0;34m'WEEK'\u001b[0m\u001b[0;34m,\u001b[0m\u001b[0;34m'THE'\u001b[0m\u001b[0;34m,\u001b[0m\u001b[0mbigram\u001b[0m\u001b[0;34m)\u001b[0m           \u001b[0;34m*\u001b[0m\u001b[0mPb\u001b[0m\u001b[0;34m(\u001b[0m\u001b[0mvocab\u001b[0m\u001b[0;34m,\u001b[0m\u001b[0;34m'THE'\u001b[0m\u001b[0;34m,\u001b[0m\u001b[0;34m'STOCK'\u001b[0m\u001b[0;34m,\u001b[0m\u001b[0mbigram\u001b[0m\u001b[0;34m)\u001b[0m\u001b[0;34m*\u001b[0m\u001b[0mPb\u001b[0m\u001b[0;34m(\u001b[0m\u001b[0mvocab\u001b[0m\u001b[0;34m,\u001b[0m\u001b[0;34m'STOCK'\u001b[0m\u001b[0;34m,\u001b[0m\u001b[0;34m'MARKET'\u001b[0m\u001b[0;34m,\u001b[0m\u001b[0mbigram\u001b[0m\u001b[0;34m)\u001b[0m\u001b[0;34m*\u001b[0m\u001b[0mPb\u001b[0m\u001b[0;34m(\u001b[0m\u001b[0mvocab\u001b[0m\u001b[0;34m,\u001b[0m\u001b[0;34m'MARKET'\u001b[0m\u001b[0;34m,\u001b[0m\u001b[0;34m'FELL'\u001b[0m\u001b[0;34m,\u001b[0m\u001b[0mbigram\u001b[0m\u001b[0;34m)\u001b[0m           \u001b[0;34m*\u001b[0m\u001b[0mPb\u001b[0m\u001b[0;34m(\u001b[0m\u001b[0mvocab\u001b[0m\u001b[0;34m,\u001b[0m\u001b[0;34m'FELL'\u001b[0m\u001b[0;34m,\u001b[0m\u001b[0;34m'BY'\u001b[0m\u001b[0;34m,\u001b[0m\u001b[0mbigram\u001b[0m\u001b[0;34m)\u001b[0m\u001b[0;34m*\u001b[0m\u001b[0mPb\u001b[0m\u001b[0;34m(\u001b[0m\u001b[0mvocab\u001b[0m\u001b[0;34m,\u001b[0m\u001b[0;34m'BY'\u001b[0m\u001b[0;34m,\u001b[0m\u001b[0;34m'ONE'\u001b[0m\u001b[0;34m,\u001b[0m\u001b[0mbigram\u001b[0m\u001b[0;34m)\u001b[0m\u001b[0;34m*\u001b[0m\u001b[0mPb\u001b[0m\u001b[0;34m(\u001b[0m\u001b[0mvocab\u001b[0m\u001b[0;34m,\u001b[0m\u001b[0;34m'ONE'\u001b[0m\u001b[0;34m,\u001b[0m\u001b[0;34m'HUNDRED'\u001b[0m\u001b[0;34m,\u001b[0m\u001b[0mbigram\u001b[0m\u001b[0;34m)\u001b[0m           \u001b[0;34m*\u001b[0m\u001b[0mPb\u001b[0m\u001b[0;34m(\u001b[0m\u001b[0mvocab\u001b[0m\u001b[0;34m,\u001b[0m\u001b[0;34m'HUNDRED'\u001b[0m\u001b[0;34m,\u001b[0m\u001b[0;34m'POINTS'\u001b[0m\u001b[0;34m,\u001b[0m\u001b[0mbigram\u001b[0m\u001b[0;34m)\u001b[0m\u001b[0;34m)\u001b[0m\u001b[0;34m\u001b[0m\u001b[0m\n",
      "\u001b[0;31mUnboundLocalError\u001b[0m: local variable 'pb' referenced before assignment"
     ]
    }
   ],
   "source": [
    "# calculate Lb\n",
    "l_b_d = np.log(Pb(vocab,'<s>','THE',bigram)*Pb(vocab,'THE','NINETEEN',bigram)* Pb(vocab,'NINETEEN','OFFICIALS',bigram)\\\n",
    "           *Pb(vocab,'OFFICIALS','SOLD',bigram)*Pb(vocab,'SOLD','FIRE',bigram)*Pb(vocab,'FIRE','INSURANCE',bigram))"
   ]
  },
  {
   "cell_type": "markdown",
   "metadata": {},
   "source": [
    "For the sentence in part (d), NINETEEN OFFICIALS is not observed in the training corpus, thus the Pb of this pair is zero. This will cause the log likelihood of bigram model to be minus infinity."
   ]
  }
 ],
 "metadata": {
  "kernelspec": {
   "display_name": "Python 3",
   "language": "python",
   "name": "python3"
  },
  "language_info": {
   "codemirror_mode": {
    "name": "ipython",
    "version": 3
   },
   "file_extension": ".py",
   "mimetype": "text/x-python",
   "name": "python",
   "nbconvert_exporter": "python",
   "pygments_lexer": "ipython3",
   "version": "3.6.5"
  }
 },
 "nbformat": 4,
 "nbformat_minor": 2
}
