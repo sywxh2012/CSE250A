{
 "cells": [
  {
   "cell_type": "code",
   "execution_count": 2,
   "metadata": {},
   "outputs": [],
   "source": [
    "import numpy as np\n",
    "import pandas as pd\n",
    "import matplotlib.pyplot as plt\n",
    "from numpy.linalg import *\n",
    "import math"
   ]
  },
  {
   "cell_type": "code",
   "execution_count": 3,
   "metadata": {},
   "outputs": [],
   "source": [
    "data00 = pd.read_csv('hw4_nasdaq00.txt', sep=\" \", header=None)\n",
    "data01 = pd.read_csv('hw4_nasdaq01.txt', sep=\" \", header=None)"
   ]
  },
  {
   "cell_type": "markdown",
   "metadata": {},
   "source": [
    "### (a)"
   ]
  },
  {
   "cell_type": "code",
   "execution_count": 106,
   "metadata": {},
   "outputs": [],
   "source": [
    "def transform_data(df):\n",
    "    df_x1 = df.values[2:df.shape[0]-1]\n",
    "    df_x2 = df.values[1:df.shape[0]-2]\n",
    "    df_x3 = df.values[0:df.shape[0]-3]\n",
    "    result = np.concatenate((df_x1, df_x2, df_x3), axis=1)\n",
    "    return result"
   ]
  },
  {
   "cell_type": "code",
   "execution_count": 107,
   "metadata": {},
   "outputs": [],
   "source": [
    "df00 = transform_data(data00)\n",
    "df01 = transform_data(data01)"
   ]
  },
  {
   "cell_type": "code",
   "execution_count": 108,
   "metadata": {},
   "outputs": [],
   "source": [
    "def ComputeA(df):\n",
    "    A = np.zeros((3,3))\n",
    "    for i in range(df.shape[0]):\n",
    "        outer_product = np.outer(df[i,],df[i,])\n",
    "        A += outer_product\n",
    "    return A\n",
    "\n",
    "def ComputeB(data,df):\n",
    "    b = np.ones((1, 3))\n",
    "    for i in range(df.shape[0]):\n",
    "        b += data.values[i+3,0]*df[i,]\n",
    "    return b"
   ]
  },
  {
   "cell_type": "code",
   "execution_count": 109,
   "metadata": {},
   "outputs": [],
   "source": [
    "A = ComputeA(df00)\n",
    "b = np.transpose(ComputeB(data00,df00))"
   ]
  },
  {
   "cell_type": "code",
   "execution_count": 121,
   "metadata": {},
   "outputs": [
    {
     "name": "stdout",
     "output_type": "stream",
     "text": [
      "a_1 =  [0.95067337]\n",
      "a_2 =  [0.01560133]\n",
      "a_3 =  [0.03189568]\n"
     ]
    }
   ],
   "source": [
    "weight = np.linalg.solve(A, b)\n",
    "a_1 = weight[0]\n",
    "a_2 = weight[1]\n",
    "a_3 = weight[2]\n",
    "print(\"a_1 = \", a_1)\n",
    "print(\"a_2 = \", a_2)\n",
    "print(\"a_3 = \", a_3)"
   ]
  },
  {
   "cell_type": "markdown",
   "metadata": {},
   "source": [
    "### (b)"
   ]
  },
  {
   "cell_type": "code",
   "execution_count": 119,
   "metadata": {},
   "outputs": [
    {
     "name": "stdout",
     "output_type": "stream",
     "text": [
      "MSE of training 13902.40107636789\n",
      "MSE of testing 2985.0979239598764\n"
     ]
    }
   ],
   "source": [
    "def ComputeMSE(weight,df,data):\n",
    "    predict = np.dot(df,weight)\n",
    "    SE = (data.values[3:,] - predict)**2\n",
    "    MSE = np.mean(SE)\n",
    "    return MSE\n",
    "\n",
    "MSE_train = ComputeMSE(weight,df00,data00)\n",
    "MSE_test = ComputeMSE(weight,df01,data01)\n",
    "print(\"MSE of training\", MSE_train)\n",
    "print(\"MSE of testing\", MSE_test)"
   ]
  },
  {
   "cell_type": "markdown",
   "metadata": {},
   "source": [
    "The MSE of testing is smaller than training, and RMSE of 54.64 is reasonable for stock market prediction, where the prices are between 1000 and 10000. Therefore, I would recommend this linear model."
   ]
  }
 ],
 "metadata": {
  "kernelspec": {
   "display_name": "Python 3",
   "language": "python",
   "name": "python3"
  },
  "language_info": {
   "codemirror_mode": {
    "name": "ipython",
    "version": 3
   },
   "file_extension": ".py",
   "mimetype": "text/x-python",
   "name": "python",
   "nbconvert_exporter": "python",
   "pygments_lexer": "ipython3",
   "version": "3.6.5"
  }
 },
 "nbformat": 4,
 "nbformat_minor": 2
}
