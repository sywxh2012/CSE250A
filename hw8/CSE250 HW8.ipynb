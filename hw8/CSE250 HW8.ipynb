{
 "cells": [
  {
   "cell_type": "code",
   "execution_count": 1,
   "metadata": {},
   "outputs": [],
   "source": [
    "import numpy as np\n",
    "import math\n",
    "import matplotlib.pyplot as plt\n",
    "import pandas as pd"
   ]
  },
  {
   "cell_type": "code",
   "execution_count": 101,
   "metadata": {
    "collapsed": true
   },
   "outputs": [
    {
     "name": "stderr",
     "output_type": "stream",
     "text": [
      "/anaconda3/lib/python3.6/site-packages/ipykernel_launcher.py:5: ParserWarning: Falling back to the 'python' engine because the 'c' engine does not support regex separators (separators > 1 char and different from '\\s+' are interpreted as regex); you can avoid this warning by specifying engine='python'.\n",
      "  \"\"\"\n"
     ]
    }
   ],
   "source": [
    "movie_titles = pd.read_csv('hw8_movieTitles_fa18.txt', header=None)\n",
    "PID = pd.read_csv('hw8_studentPIDs_fa18.txt', header=None)\n",
    "ratings = pd.read_csv('hw8_ratings_fa18.txt', sep = \" \", header=None)\n",
    "probZ_ini = pd.read_csv('hw8_probZ_init.txt', header=None)\n",
    "probRgivenZ_ini = pd.read_csv('hw8_probRgivenZ_init.txt', sep = \"  \", header=None)"
   ]
  },
  {
   "cell_type": "markdown",
   "metadata": {},
   "source": [
    "## (a) Sanity Check"
   ]
  },
  {
   "cell_type": "code",
   "execution_count": 42,
   "metadata": {},
   "outputs": [],
   "source": [
    "num_student = ratings.shape[0]\n",
    "num_movie = ratings.shape[1]\n",
    "popularity = np.zeros((num_movie,1))\n",
    "\n",
    "for i in range(num_movie):\n",
    "    not_seen = 0\n",
    "    for j in range(num_student):\n",
    "        if ratings.values[j,i] == '?':\n",
    "            not_seen += 1\n",
    "        elif ratings.values[j,i] == '1':\n",
    "            popularity[i] += 1\n",
    "    popularity[i] /= (num_student-not_seen)    "
   ]
  },
  {
   "cell_type": "code",
   "execution_count": 53,
   "metadata": {},
   "outputs": [],
   "source": [
    "index = np.squeeze(np.argsort(popularity,axis=0))"
   ]
  },
  {
   "cell_type": "code",
   "execution_count": 61,
   "metadata": {},
   "outputs": [],
   "source": [
    "movie_sorted = [movie_titles.values[j,0] for j in index]"
   ]
  },
  {
   "cell_type": "code",
   "execution_count": 62,
   "metadata": {},
   "outputs": [
    {
     "data": {
      "text/plain": [
       "['The_Last_Airbender',\n",
       " 'Fifty_Shades_of_Grey',\n",
       " 'I_Feel_Pretty',\n",
       " 'Chappaquidick',\n",
       " 'Man_of_Steel',\n",
       " 'Prometheus',\n",
       " 'The_Shape_of_Water',\n",
       " 'Phantom_Thread',\n",
       " 'Magic_Mike',\n",
       " 'World_War_Z',\n",
       " 'Bridemaids',\n",
       " 'American_Hustle',\n",
       " 'Drive',\n",
       " 'The_Hunger_Games',\n",
       " 'Thor',\n",
       " 'Pitch_Perfect',\n",
       " 'Fast_Five',\n",
       " 'Avengers:_Age_of_Ultron',\n",
       " 'Jurassic_World',\n",
       " 'The_Hateful_Eight',\n",
       " 'The_Revenant',\n",
       " 'Dunkirk',\n",
       " 'Star_Wars:_The_Force_Awakens',\n",
       " 'Mad_Max:_Fury_Road',\n",
       " 'Captain_America:_The_First_Avenger',\n",
       " 'The_Perks_of_Being_a_Wallflower',\n",
       " 'Iron_Man_2',\n",
       " 'La_La_Land',\n",
       " 'Manchester_by_the_Sea',\n",
       " 'The_Help',\n",
       " 'Midnight_in_Paris',\n",
       " 'The_Girls_with_the_Dragon_Tattoo',\n",
       " '21_Jump_Street',\n",
       " 'Frozen',\n",
       " 'Now_You_See_Me',\n",
       " 'X-Men:_First_Class',\n",
       " 'Ex_Machina',\n",
       " 'Harry_Potter_and_the_Deathly_Hallows:_Part_1',\n",
       " 'Toy_Story_3',\n",
       " 'Her',\n",
       " 'The_Great_Gatsby',\n",
       " 'The_Avengers',\n",
       " 'The_Theory_of_Everything',\n",
       " 'Room',\n",
       " 'Gone_Girl',\n",
       " 'Three_Billboards_Outside_Ebbing',\n",
       " 'Les_Miserables',\n",
       " 'Harry_Potter_and_the_Deathly_Hallows:_Part_2',\n",
       " 'The_Martian',\n",
       " 'Avengers:_Infinity_War',\n",
       " 'Darkest_Hour',\n",
       " 'Hidden_Figures',\n",
       " '12_Years_a_Slave',\n",
       " 'Ready_Player_One',\n",
       " 'Black_Swan',\n",
       " 'Django_Unchained',\n",
       " 'Wolf_of_Wall_Street',\n",
       " 'Shutter_Island',\n",
       " 'Interstellar',\n",
       " 'The_Dark_Knight_Rises',\n",
       " 'The_Social_Network',\n",
       " 'Inception']"
      ]
     },
     "execution_count": 62,
     "metadata": {},
     "output_type": "execute_result"
    }
   ],
   "source": [
    "movie_sorted"
   ]
  },
  {
   "cell_type": "markdown",
   "metadata": {},
   "source": [
    "Comments: This list is consisten with my expectations."
   ]
  },
  {
   "cell_type": "markdown",
   "metadata": {},
   "source": [
    "## (e) Implementation"
   ]
  },
  {
   "cell_type": "code",
   "execution_count": 63,
   "metadata": {},
   "outputs": [],
   "source": [
    "T = ratings.shape[0]  #num of students"
   ]
  },
  {
   "cell_type": "code",
   "execution_count": 71,
   "metadata": {},
   "outputs": [],
   "source": [
    "def ComputePit(probZ,probRgivenZ,ratings):\n",
    "    T = ratings.shape[0]\n",
    "    Pit = np.zeros((4,T))\n",
    "    for t in range(T):\n",
    "        for i in range(4):\n",
    "            num = ComputeNum(probZ,probRgivenZ,ratings,i,t)\n",
    "            denom = ComputeDenom(probZ,probRgivenZ,ratings,t)\n",
    "            Pit[i,t] = num/denom\n",
    "    return Pit"
   ]
  },
  {
   "cell_type": "code",
   "execution_count": 100,
   "metadata": {},
   "outputs": [],
   "source": [
    "def ComputeNum(probZ,probRgivenZ,ratings,i,t):\n",
    "    P_z_i = probZ[i]\n",
    "    product = 1\n",
    "    for n in range(ratings.shape[1]):\n",
    "        if ratings[t,n] == '1':\n",
    "            product *= probRgivenZ[n,i]\n",
    "        elif ratings[t,n] == '0':\n",
    "            product *= (1 - probRgivenZ[n,i])\n",
    "    return P_z_i*product\n",
    "\n",
    "def ComputeDenom(probZ,probRgivenZ,ratings,t):\n",
    "    denom = 0\n",
    "    for i in range(4):\n",
    "        P_z_i = probZ[i]\n",
    "        product = 1\n",
    "        for n in range(ratings.shape[1]):\n",
    "            if ratings[t,n] == '1':\n",
    "                product *= probRgivenZ[n,i]\n",
    "            elif ratings[t,n] == '0':\n",
    "                product *= (1 - probRgivenZ[n,i])\n",
    "        denom += P_z_i*product\n",
    "    return denom"
   ]
  },
  {
   "cell_type": "code",
   "execution_count": 86,
   "metadata": {},
   "outputs": [],
   "source": [
    "def CalcP_Z(Pit):\n",
    "    T = Pit.shape[1]\n",
    "    P_z = np.sum(Pit, axis=1)/T\n",
    "    return P_z\n",
    "\n",
    "def CalcRgivenZ(probRgivenZ,Pit,ratings):\n",
    "    T = Pit.shape[1]\n",
    "    denom = np.sum(Pit, axis=1)\n",
    "    result = probRgivenZ.copy()\n",
    "    for i in range(4):\n",
    "        for j in range(probRgivenZ.shape[0]):\n",
    "            num = 0\n",
    "            for t in range(T):\n",
    "                if ratings[t,j] == '1':\n",
    "                    num += Pit[i,t]\n",
    "                elif ratings[t,j] == '0':\n",
    "                    num += 0\n",
    "                else:\n",
    "                    num += Pit[i,t]*probRgivenZ[j,i]           \n",
    "            result[j,i] = num/denom[i]\n",
    "    return result"
   ]
  },
  {
   "cell_type": "code",
   "execution_count": 87,
   "metadata": {},
   "outputs": [],
   "source": [
    "def CalcLogLikelihood(probZ,probRgivenZ,ratings):\n",
    "    T = ratings.shape[0]\n",
    "    log_l = 0\n",
    "    for t in range(T):\n",
    "        log_l += np.log(ComputeDenom(probZ,probRgivenZ,ratings,t))\n",
    "    log_l /= T\n",
    "    return log_l"
   ]
  },
  {
   "cell_type": "code",
   "execution_count": 102,
   "metadata": {},
   "outputs": [],
   "source": [
    "ratings = ratings.values\n",
    "probRgivenZ_ini = probRgivenZ_ini.values\n",
    "probZ_ini = probZ_ini.values"
   ]
  },
  {
   "cell_type": "code",
   "execution_count": 103,
   "metadata": {},
   "outputs": [
    {
     "name": "stdout",
     "output_type": "stream",
     "text": [
      "iteration: 0  likelihood: -26.67883\n",
      "iteration: 1  likelihood: -16.09467\n",
      "iteration: 2  likelihood: -14.28779\n",
      "iteration: 4  likelihood: -13.26508\n",
      "iteration: 8  likelihood: -12.84731\n",
      "iteration: 16  likelihood: -12.70600\n",
      "iteration: 32  likelihood: -12.64074\n",
      "iteration: 64  likelihood: -12.61607\n",
      "iteration: 128  likelihood: -12.59119\n"
     ]
    }
   ],
   "source": [
    "L = CalcLogLikelihood(probZ_ini,probRgivenZ_ini,ratings)\n",
    "Pit = ComputePit(probZ_ini,probRgivenZ_ini,ratings)\n",
    "probZ = CalcP_Z(Pit)\n",
    "probRgivenZ = CalcRgivenZ(probRgivenZ_ini,Pit,ratings)\n",
    "print('iteration: 0' + '  likelihood: %.5f' % L)\n",
    "\n",
    "for i in range(128):\n",
    "    L = CalcLogLikelihood(probZ,probRgivenZ,ratings)\n",
    "    Pit = ComputePit(probZ,probRgivenZ,ratings)\n",
    "    probZ = CalcP_Z(Pit)\n",
    "    probRgivenZ = CalcRgivenZ(probRgivenZ,Pit,ratings)\n",
    "    if (i+1) in (0,1,2,4,8,16,32,64,128):\n",
    "        print('iteration: %d' % (i+1) + '  likelihood: %.5f' % L)"
   ]
  },
  {
   "cell_type": "markdown",
   "metadata": {},
   "source": [
    "## (f) Personal Movie Recommendation"
   ]
  },
  {
   "cell_type": "code",
   "execution_count": 118,
   "metadata": {},
   "outputs": [],
   "source": [
    "my_index = np.where(PID.values == 'A53287481')\n",
    "my_index = np.squeeze(my_index)\n",
    "my_index = my_index[0]"
   ]
  },
  {
   "cell_type": "code",
   "execution_count": 129,
   "metadata": {},
   "outputs": [],
   "source": [
    "N = ratings.shape[1]\n",
    "size_omega = 0\n",
    "for n in range(N):\n",
    "    if ratings[my_index,n] == '?':\n",
    "        size_omega += 1\n",
    "        \n",
    "R_l = np.zeros((size_omega,2))\n",
    "idx = -1\n",
    "\n",
    "for l in range(N):\n",
    "    if ratings[my_index,l] == '?':\n",
    "        idx += 1\n",
    "        prob = 0\n",
    "        for i in range(4):\n",
    "            prob += probRgivenZ[l,i]*Pit[i,my_index]\n",
    "        R_l[idx,0] = prob\n",
    "        R_l[idx,1] = l"
   ]
  },
  {
   "cell_type": "code",
   "execution_count": 143,
   "metadata": {},
   "outputs": [],
   "source": [
    "index_new = np.squeeze(np.argsort(R_l[:,0],axis=0))\n",
    "movie_sorted_index = [R_l[j,1] for j in index_new]\n",
    "unseen_movie_sorted = [movie_titles.values[j.astype(int),0] for j in movie_sorted_index]"
   ]
  },
  {
   "cell_type": "code",
   "execution_count": 144,
   "metadata": {},
   "outputs": [
    {
     "data": {
      "text/plain": [
       "['I_Feel_Pretty',\n",
       " 'The_Last_Airbender',\n",
       " 'Man_of_Steel',\n",
       " 'The_Hunger_Games',\n",
       " 'Phantom_Thread',\n",
       " 'Fast_Five',\n",
       " 'Bridemaids',\n",
       " 'American_Hustle',\n",
       " 'Star_Wars:_The_Force_Awakens',\n",
       " 'Prometheus',\n",
       " 'Magic_Mike',\n",
       " 'Now_You_See_Me',\n",
       " 'Manchester_by_the_Sea',\n",
       " 'X-Men:_First_Class',\n",
       " 'Toy_Story_3',\n",
       " 'Darkest_Hour',\n",
       " 'Drive',\n",
       " 'Room',\n",
       " 'The_Theory_of_Everything',\n",
       " 'Harry_Potter_and_the_Deathly_Hallows:_Part_1',\n",
       " 'The_Hateful_Eight',\n",
       " 'Ready_Player_One',\n",
       " 'The_Girls_with_the_Dragon_Tattoo',\n",
       " 'Hidden_Figures',\n",
       " 'Chappaquidick',\n",
       " 'Midnight_in_Paris',\n",
       " 'Her',\n",
       " '12_Years_a_Slave',\n",
       " 'Harry_Potter_and_the_Deathly_Hallows:_Part_2',\n",
       " '21_Jump_Street',\n",
       " 'Three_Billboards_Outside_Ebbing',\n",
       " 'Les_Miserables',\n",
       " 'Gone_Girl',\n",
       " 'The_Perks_of_Being_a_Wallflower',\n",
       " 'The_Help',\n",
       " 'Black_Swan',\n",
       " 'Django_Unchained']"
      ]
     },
     "execution_count": 144,
     "metadata": {},
     "output_type": "execute_result"
    }
   ],
   "source": [
    "unseen_movie_sorted"
   ]
  }
 ],
 "metadata": {
  "kernelspec": {
   "display_name": "Python 3",
   "language": "python",
   "name": "python3"
  },
  "language_info": {
   "codemirror_mode": {
    "name": "ipython",
    "version": 3
   },
   "file_extension": ".py",
   "mimetype": "text/x-python",
   "name": "python",
   "nbconvert_exporter": "python",
   "pygments_lexer": "ipython3",
   "version": "3.6.5"
  }
 },
 "nbformat": 4,
 "nbformat_minor": 2
}
