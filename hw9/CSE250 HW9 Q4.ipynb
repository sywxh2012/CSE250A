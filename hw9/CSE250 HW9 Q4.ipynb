{
 "cells": [
  {
   "cell_type": "code",
   "execution_count": 16,
   "metadata": {},
   "outputs": [],
   "source": [
    "import numpy as np\n",
    "import math\n",
    "import matplotlib.pyplot as plt\n",
    "import pandas as pd"
   ]
  },
  {
   "cell_type": "code",
   "execution_count": 86,
   "metadata": {},
   "outputs": [],
   "source": [
    "rewards = pd.read_csv('rewards.txt', header=None).values\n",
    "p1_sparse = pd.read_csv('prob_a1.txt', delim_whitespace = True, header=None).values\n",
    "p2_sparse = pd.read_csv('prob_a2.txt', delim_whitespace = True, header=None).values\n",
    "p3_sparse = pd.read_csv('prob_a3.txt', delim_whitespace = True, header=None).values\n",
    "p4_sparse = pd.read_csv('prob_a4.txt', delim_whitespace = True, header=None).values\n",
    "s = rewards.shape[0]   #number of states\n",
    "gamma = 0.99"
   ]
  },
  {
   "cell_type": "code",
   "execution_count": 87,
   "metadata": {},
   "outputs": [],
   "source": [
    "def convertToMatrix(p_sparse,s):\n",
    "    result = np.zeros((s,s))\n",
    "    for i in range(p_sparse.shape[0]):\n",
    "        result[int(p_sparse[i,0])-1,int(p_sparse[i,1])-1] = p_sparse[i,2]\n",
    "    return result"
   ]
  },
  {
   "cell_type": "code",
   "execution_count": 88,
   "metadata": {},
   "outputs": [],
   "source": [
    "p1 = convertToMatrix(p1_sparse,s)\n",
    "p2 = convertToMatrix(p2_sparse,s)\n",
    "p3 = convertToMatrix(p3_sparse,s)\n",
    "p4 = convertToMatrix(p4_sparse,s)"
   ]
  },
  {
   "cell_type": "markdown",
   "metadata": {},
   "source": [
    "## Policy iteration"
   ]
  },
  {
   "cell_type": "code",
   "execution_count": 92,
   "metadata": {},
   "outputs": [],
   "source": [
    "def ComputeValueFunction(policy,p1,p2,p3,p4,gamma,rewards,s):\n",
    "    p = np.zeros((s,s))   #transition matrix\n",
    "    for i in range(s):    #loop over all policies\n",
    "        if policy[i,0] == 1:\n",
    "            p[i,:] = p1[i,:]\n",
    "        elif policy[i,0] == 2:\n",
    "            p[i,:] = p2[i,:]\n",
    "        elif policy[i,0] == 3:\n",
    "            p[i,:] = p3[i,:]\n",
    "        else:\n",
    "            p[i,:] = p4[i,:]\n",
    "    I = np.eye(s)\n",
    "    value = np.dot(np.linalg.inv(I-gamma*p),rewards)\n",
    "    return value"
   ]
  },
  {
   "cell_type": "code",
   "execution_count": 93,
   "metadata": {},
   "outputs": [],
   "source": [
    "def CalcGreedyPolicy(p1,p2,p3,p4,value,policy):\n",
    "    new_policy = policy.copy()\n",
    "    s = new_policy.shape[0]\n",
    "    for i in range(s):\n",
    "        new_policy[i,0] = FindBestAction(p1,p2,p3,p4,value,i)\n",
    "    return new_policy\n",
    "\n",
    "def FindBestAction(p1,p2,p3,p4,value,state):\n",
    "    max_value = np.zeros((4,1))\n",
    "    max_value[0,0] = np.dot(p1[state,:],value)\n",
    "    max_value[1,0] = np.dot(p2[state,:],value)\n",
    "    max_value[2,0] = np.dot(p3[state,:],value)\n",
    "    max_value[3,0] = np.dot(p4[state,:],value)\n",
    "    best_action = max_value.argmax() + 1\n",
    "    return best_action"
   ]
  },
  {
   "cell_type": "code",
   "execution_count": 166,
   "metadata": {},
   "outputs": [],
   "source": [
    "#initialize policy\n",
    "policy = np.ones((s,1)).astype(int)\n",
    "iterations = 100\n",
    "for i in range(iterations):\n",
    "    value = ComputeValueFunction(policy,p1,p2,p3,p4,gamma,rewards,s)\n",
    "    policy = CalcGreedyPolicy(p1,p2,p3,p4,value,policy)"
   ]
  },
  {
   "cell_type": "code",
   "execution_count": 162,
   "metadata": {},
   "outputs": [],
   "source": [
    "value = value.reshape(9,9).T\n",
    "policy = policy.reshape(9,9).T"
   ]
  },
  {
   "cell_type": "code",
   "execution_count": 163,
   "metadata": {},
   "outputs": [
    {
     "data": {
      "text/plain": [
       "array([[   0.        ,    0.        ,    0.        ,    0.        ,\n",
       "           0.        ,    0.        ,    0.        ,    0.        ,\n",
       "           0.        ],\n",
       "       [   0.        ,   65.77308407,   67.13647421,   77.84605   ,\n",
       "          79.84451583,   72.47511769, -100.        ,    0.        ,\n",
       "         100.        ],\n",
       "       [   0.        ,   55.88294346, -100.        ,   70.30818136,\n",
       "          81.34440225,   83.04847989,   84.88054612,   96.87232244,\n",
       "          98.71875987],\n",
       "       [   0.        ,   54.92298013,   50.47656297,   59.66641187,\n",
       "           0.        ,   80.95826449,    0.        ,   97.04482865,\n",
       "          98.72729893],\n",
       "       [  53.50968756,   54.14557214,    0.        , -100.        ,\n",
       "        -100.        ,   61.77980767, -100.        ,   88.22035599,\n",
       "         100.        ],\n",
       "       [   0.        ,   52.50402036,   43.9359876 ,   51.09137525,\n",
       "          61.00715483,   71.78642614,   73.94661407,   85.18458536,\n",
       "          97.57257319],\n",
       "       [   0.        ,   43.77254574, -100.        ,    0.        ,\n",
       "           0.        ,   70.35142939,    0.        , -100.        ,\n",
       "          88.40593622],\n",
       "       [   0.        ,   47.95296148,   48.76871928,   58.14735126,\n",
       "          59.39003194,   60.1688947 , -100.        ,    0.        ,\n",
       "         100.        ],\n",
       "       [   0.        ,    0.        ,    0.        ,    0.        ,\n",
       "           0.        ,    0.        ,    0.        ,    0.        ,\n",
       "           0.        ]])"
      ]
     },
     "execution_count": 163,
     "metadata": {},
     "output_type": "execute_result"
    }
   ],
   "source": [
    "value"
   ]
  },
  {
   "cell_type": "code",
   "execution_count": 164,
   "metadata": {},
   "outputs": [
    {
     "data": {
      "text/plain": [
       "array([[1, 1, 1, 1, 1, 1, 1, 1, 1],\n",
       "       [1, 3, 3, 3, 4, 4, 1, 1, 1],\n",
       "       [1, 2, 1, 3, 3, 3, 3, 3, 2],\n",
       "       [1, 2, 3, 2, 1, 2, 1, 3, 4],\n",
       "       [3, 2, 1, 1, 1, 2, 1, 3, 1],\n",
       "       [1, 2, 1, 3, 3, 3, 3, 3, 2],\n",
       "       [1, 2, 1, 1, 1, 2, 1, 1, 4],\n",
       "       [1, 3, 3, 3, 3, 2, 1, 1, 1],\n",
       "       [1, 1, 1, 1, 1, 1, 1, 1, 1]])"
      ]
     },
     "execution_count": 164,
     "metadata": {},
     "output_type": "execute_result"
    }
   ],
   "source": [
    "policy"
   ]
  },
  {
   "cell_type": "markdown",
   "metadata": {},
   "source": [
    "## Value Iteration"
   ]
  },
  {
   "cell_type": "code",
   "execution_count": 179,
   "metadata": {},
   "outputs": [],
   "source": [
    "def ComputeOptimalValue(p1,p2,p3,p4,gamma,rewards,s,iterations):\n",
    "    value = np.zeros((s,1))\n",
    "    for i in range(iterations):\n",
    "        value = rewards + gamma*FindMaxValue(p1,p2,p3,p4,value,s)\n",
    "    return value"
   ]
  },
  {
   "cell_type": "code",
   "execution_count": 180,
   "metadata": {},
   "outputs": [],
   "source": [
    "def FindMaxValue(p1,p2,p3,p4,value,s):\n",
    "    col_1 = np.dot(p1,value)\n",
    "    col_2 = np.dot(p2,value)\n",
    "    col_3 = np.dot(p3,value)\n",
    "    col_4 = np.dot(p4,value)\n",
    "    matrix = np.concatenate((col_1, col_2, col_3, col_4), axis=1)\n",
    "    max_value = np.amax(matrix, axis=1).reshape(s,-1)\n",
    "    return max_value"
   ]
  },
  {
   "cell_type": "code",
   "execution_count": 200,
   "metadata": {},
   "outputs": [],
   "source": [
    "optimal_value = ComputeOptimalValue(p1,p2,p3,p4,gamma,rewards,s,1200)\n",
    "value_iter_policy = CalcGreedyPolicy(p1,p2,p3,p4,optimal_value,policy)"
   ]
  },
  {
   "cell_type": "code",
   "execution_count": 201,
   "metadata": {},
   "outputs": [],
   "source": [
    "optimal_value = optimal_value.reshape(9,9).T\n",
    "value_iter_policy = value_iter_policy.reshape(9,9).T"
   ]
  },
  {
   "cell_type": "code",
   "execution_count": 202,
   "metadata": {},
   "outputs": [
    {
     "data": {
      "text/plain": [
       "array([[  0.        ,   0.        ,   0.        ,   0.        ,\n",
       "          0.        ,   0.        ,   0.        ,   0.        ,\n",
       "          0.        ],\n",
       "       [  0.        ,  65.77265447,  67.13604131,  77.84555742,\n",
       "         79.84401676,  72.47466897, -99.99942159,   0.        ,\n",
       "         99.99942159],\n",
       "       [  0.        ,  55.88257   , -99.99942159,  70.30773948,\n",
       "         81.34389984,  83.04797372,  84.88003597,  96.87174802,\n",
       "         98.71818168],\n",
       "       [  0.        ,  54.92260903,  50.47623177,  59.66602951,\n",
       "          0.        ,  80.95776484,   0.        ,  97.04425388,\n",
       "         98.72672072],\n",
       "       [ 53.50931682,  54.1452014 ,   0.        , -99.99942159,\n",
       "        -99.99942159,  61.77941892, -99.99942159,  88.21983929,\n",
       "         99.99942159],\n",
       "       [  0.        ,  52.50365573,  43.93567471,  51.09105085,\n",
       "         61.00677664,  71.78598851,  73.94616987,  85.18408062,\n",
       "         97.57200189],\n",
       "       [  0.        ,  43.77223302, -99.99942159,   0.        ,\n",
       "          0.        ,  70.35099507,   0.        , -99.99942159,\n",
       "         88.40541907],\n",
       "       [  0.        ,  47.95264021,  48.76839752,  58.14697651,\n",
       "         59.38965408,  60.16851666, -99.99942159,   0.        ,\n",
       "         99.99942159],\n",
       "       [  0.        ,   0.        ,   0.        ,   0.        ,\n",
       "          0.        ,   0.        ,   0.        ,   0.        ,\n",
       "          0.        ]])"
      ]
     },
     "execution_count": 202,
     "metadata": {},
     "output_type": "execute_result"
    }
   ],
   "source": [
    "optimal_value"
   ]
  },
  {
   "cell_type": "code",
   "execution_count": 203,
   "metadata": {},
   "outputs": [
    {
     "data": {
      "text/plain": [
       "array([[1, 1, 1, 1, 1, 1, 1, 1, 1],\n",
       "       [1, 3, 3, 3, 4, 4, 1, 1, 1],\n",
       "       [1, 2, 1, 3, 3, 3, 3, 3, 2],\n",
       "       [1, 2, 3, 2, 1, 2, 1, 3, 4],\n",
       "       [3, 2, 1, 1, 1, 2, 1, 3, 1],\n",
       "       [1, 2, 1, 3, 3, 3, 3, 3, 2],\n",
       "       [1, 2, 1, 1, 1, 2, 1, 1, 4],\n",
       "       [1, 3, 3, 3, 3, 2, 1, 1, 1],\n",
       "       [1, 1, 1, 1, 1, 1, 1, 1, 1]])"
      ]
     },
     "execution_count": 203,
     "metadata": {},
     "output_type": "execute_result"
    }
   ],
   "source": [
    "value_iter_policy"
   ]
  }
 ],
 "metadata": {
  "kernelspec": {
   "display_name": "Python 3",
   "language": "python",
   "name": "python3"
  },
  "language_info": {
   "codemirror_mode": {
    "name": "ipython",
    "version": 3
   },
   "file_extension": ".py",
   "mimetype": "text/x-python",
   "name": "python",
   "nbconvert_exporter": "python",
   "pygments_lexer": "ipython3",
   "version": "3.6.5"
  }
 },
 "nbformat": 4,
 "nbformat_minor": 2
}
