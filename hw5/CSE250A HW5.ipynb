{
 "cells": [
  {
   "cell_type": "code",
   "execution_count": 94,
   "metadata": {},
   "outputs": [],
   "source": [
    "import numpy as np\n",
    "import pandas as pd\n",
    "import matplotlib.pyplot as plt\n",
    "from numpy.linalg import *\n",
    "import math"
   ]
  },
  {
   "cell_type": "code",
   "execution_count": 95,
   "metadata": {},
   "outputs": [],
   "source": [
    "#loading data\n",
    "train3 = pd.read_csv('new_train3.txt', sep=\" \", header=None)\n",
    "train5 = pd.read_csv('new_train5.txt', sep=\" \", header=None)\n",
    "train_data = pd.concat([train3, train5])\n",
    "test3 = pd.read_csv('new_test3.txt', sep=\" \", header=None)\n",
    "test5 = pd.read_csv('new_test5.txt', sep=\" \", header=None)\n",
    "test_data = pd.concat([test3, test5])"
   ]
  },
  {
   "cell_type": "code",
   "execution_count": 96,
   "metadata": {},
   "outputs": [],
   "source": [
    "# if y = 1 then the digit is 3, y = 0 then digit is 5\n",
    "y3_train = np.ones((train3.shape[0],1))\n",
    "y5_train = np.zeros((train5.shape[0],1))\n",
    "y_train = np.concatenate((y3_train, y5_train), axis=0)\n",
    "y3_test = np.ones((test3.shape[0],1))\n",
    "y5_test = np.zeros((test5.shape[0],1))\n",
    "y_test = np.concatenate((y3_test, y5_test), axis=0)"
   ]
  },
  {
   "cell_type": "code",
   "execution_count": 97,
   "metadata": {},
   "outputs": [],
   "source": [
    "#define sigmoid function\n",
    "def sigmoid(x):\n",
    "    return 1/(1+np.exp(-x))"
   ]
  },
  {
   "cell_type": "code",
   "execution_count": 98,
   "metadata": {},
   "outputs": [],
   "source": [
    "#using the gradient ascent method\n",
    "def CalcGradient(weight, dataset, y):\n",
    "    w_dot_x = dataset.values[:,:64].dot(weight)\n",
    "    sig = sigmoid(w_dot_x)\n",
    "    err_signal = y - sig\n",
    "    gradient = err_signal.T.dot(dataset.values[:,:64])\n",
    "    return gradient.T"
   ]
  },
  {
   "cell_type": "code",
   "execution_count": 99,
   "metadata": {},
   "outputs": [],
   "source": [
    "def CalcLogLikelihood(weight, dataset, y):\n",
    "    w_dot_x = dataset.values[:,:64].dot(weight)\n",
    "    sig_p = sigmoid(w_dot_x)\n",
    "    sig_n = sigmoid(-w_dot_x)\n",
    "    log_sig_p = np.log(sig_p)\n",
    "    log_sig_n = np.log(sig_n)\n",
    "    likelihood = y.T.dot(log_sig_p) + (np.ones((y.shape[0],1)) - y).T.dot(log_sig_n)\n",
    "    return likelihood[0,0]"
   ]
  },
  {
   "cell_type": "code",
   "execution_count": 100,
   "metadata": {},
   "outputs": [],
   "source": [
    "def CalcPercentError(weight,dataset,y):\n",
    "    prediction = np.round(sigmoid(dataset.values[:,:64].dot(weight)))\n",
    "    error = np.sum(prediction != y)\n",
    "    percent = error/y.shape[0]\n",
    "    return percent"
   ]
  },
  {
   "cell_type": "code",
   "execution_count": 103,
   "metadata": {},
   "outputs": [
    {
     "name": "stdout",
     "output_type": "stream",
     "text": [
      "train error:   0.037142857142857144\n",
      "test error:   0.0525\n"
     ]
    }
   ],
   "source": [
    "#initialize weight to all zeros\n",
    "weight = np.zeros((64,1))\n",
    "epoch = 20000\n",
    "eta = 0.2/y_train.shape[0]\n",
    "window = 100\n",
    "l = np.zeros((int(epoch/window),1))\n",
    "for i in range(epoch):\n",
    "    weight += eta*CalcGradient(weight,train_data,y_train)\n",
    "    likelihood = CalcLogLikelihood(weight, train_data, y_train)\n",
    "    if i%window ==0:\n",
    "        l[int(i/window),0] = likelihood\n",
    "        \n",
    "test_error = CalcPercentError(weight,test_data,y_test)\n",
    "train_error = CalcPercentError(weight,train_data,y_train)\n",
    "print('train error:  ', train_error)\n",
    "print('test error:  ', test_error)"
   ]
  },
  {
   "cell_type": "code",
   "execution_count": 104,
   "metadata": {},
   "outputs": [
    {
     "data": {
      "text/plain": [
       "Text(0.5,1,'log likelihood vs epochs')"
      ]
     },
     "execution_count": 104,
     "metadata": {},
     "output_type": "execute_result"
    },
    {
     "data": {
      "image/png": "[encoded data removed]",
      "text/plain": [
       "<Figure size 432x288 with 1 Axes>"
      ]
     },
     "metadata": {},
     "output_type": "display_data"
    }
   ],
   "source": [
    "plt.plot(l)\n",
    "plt.xlabel('epochs/100')\n",
    "plt.ylabel('log likelihood')\n",
    "plt.title('log likelihood vs epochs')"
   ]
  },
  {
   "cell_type": "code",
   "execution_count": 105,
   "metadata": {},
   "outputs": [
    {
     "data": {
      "text/plain": [
       "array([[ 1.39851701,  1.45522758,  2.11710637,  0.96266395,  1.78019732,\n",
       "         0.48591226, -0.88290695, -1.97837275],\n",
       "       [-0.88468182, -0.00629864, -0.94380608,  0.62812088,  0.12908065,\n",
       "        -0.60284023,  1.52691888, -0.01331243],\n",
       "       [-2.87209376, -1.20465755, -1.03613088, -0.33901581, -0.27912158,\n",
       "         2.20181178,  3.17165672,  3.71824293],\n",
       "       [-2.3127257 , -0.73219418, -1.6965027 ,  0.57100694,  1.62921048,\n",
       "         0.55401612, -0.42416942,  0.25230403],\n",
       "       [-0.19781053, -0.25694259, -0.24186504,  0.95199046,  0.14368664,\n",
       "         0.0954796 ,  0.72501751,  0.16087988],\n",
       "       [-1.31249408,  0.98435695, -0.53215599, -0.7073318 , -0.44155929,\n",
       "         0.7594612 , -0.02971906,  1.83425067],\n",
       "       [-0.52937129,  0.30339596, -1.10553815, -0.88560519,  0.04087898,\n",
       "         0.23271373, -0.56357482,  1.65999506],\n",
       "       [-0.34382573, -0.3508762 ,  0.48453661, -4.72930119, -0.45345843,\n",
       "        -0.47452466, -0.0177867 ,  0.64486077]])"
      ]
     },
     "execution_count": 105,
     "metadata": {},
     "output_type": "execute_result"
    }
   ],
   "source": [
    "# 8 by 8 matrix of weight vector\n",
    "weight.reshape(8,8)"
   ]
  }
 ],
 "metadata": {
  "kernelspec": {
   "display_name": "Python 3",
   "language": "python",
   "name": "python3"
  },
  "language_info": {
   "codemirror_mode": {
    "name": "ipython",
    "version": 3
   },
   "file_extension": ".py",
   "mimetype": "text/x-python",
   "name": "python",
   "nbconvert_exporter": "python",
   "pygments_lexer": "ipython3",
   "version": "3.6.5"
  }
 },
 "nbformat": 4,
 "nbformat_minor": 2
}
