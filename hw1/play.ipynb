{
 "cells": [
  {
   "cell_type": "code",
   "execution_count": 1,
   "metadata": {},
   "outputs": [],
   "source": [
    "import numpy as np\n",
    "import string\n",
    "import pandas as pd\n",
    "import matplotlib.pyplot as plt\n",
    "import sklearn\n",
    "import pickle\n",
    "import nltk\n",
    "from numpy.linalg import *\n",
    "import itertools\n",
    "import re\n",
    "from collections import Counter"
   ]
  },
  {
   "cell_type": "markdown",
   "metadata": {},
   "source": [
    "### (a)"
   ]
  },
  {
   "cell_type": "code",
   "execution_count": 2,
   "metadata": {},
   "outputs": [],
   "source": [
    "data = pd.read_csv('hw1_word_counts_05.txt', sep=\" \", header=None)\n",
    "data.columns = ['word','freq']"
   ]
  },
  {
   "cell_type": "code",
   "execution_count": 3,
   "metadata": {},
   "outputs": [],
   "source": [
    "# Calculate P(w)\n",
    "data.loc[:, 'P(w)'] = data['freq'].apply(lambda x: x/sum(data['freq']))"
   ]
  },
  {
   "cell_type": "code",
   "execution_count": 4,
   "metadata": {},
   "outputs": [
    {
     "data": {
      "text/html": [
       "<div>\n",
       "<style scoped>\n",
       "    .dataframe tbody tr th:only-of-type {\n",
       "        vertical-align: middle;\n",
       "    }\n",
       "\n",
       "    .dataframe tbody tr th {\n",
       "        vertical-align: top;\n",
       "    }\n",
       "\n",
       "    .dataframe thead th {\n",
       "        text-align: right;\n",
       "    }\n",
       "</style>\n",
       "<table border=\"1\" class=\"dataframe\">\n",
       "  <thead>\n",
       "    <tr style=\"text-align: right;\">\n",
       "      <th></th>\n",
       "      <th>word</th>\n",
       "      <th>freq</th>\n",
       "      <th>P(w)</th>\n",
       "    </tr>\n",
       "  </thead>\n",
       "  <tbody>\n",
       "    <tr>\n",
       "      <th>0</th>\n",
       "      <td>AARON</td>\n",
       "      <td>413</td>\n",
       "      <td>0.000054</td>\n",
       "    </tr>\n",
       "    <tr>\n",
       "      <th>1</th>\n",
       "      <td>ABABA</td>\n",
       "      <td>199</td>\n",
       "      <td>0.000026</td>\n",
       "    </tr>\n",
       "    <tr>\n",
       "      <th>2</th>\n",
       "      <td>ABACK</td>\n",
       "      <td>64</td>\n",
       "      <td>0.000008</td>\n",
       "    </tr>\n",
       "    <tr>\n",
       "      <th>3</th>\n",
       "      <td>ABATE</td>\n",
       "      <td>69</td>\n",
       "      <td>0.000009</td>\n",
       "    </tr>\n",
       "    <tr>\n",
       "      <th>4</th>\n",
       "      <td>ABBAS</td>\n",
       "      <td>290</td>\n",
       "      <td>0.000038</td>\n",
       "    </tr>\n",
       "  </tbody>\n",
       "</table>\n",
       "</div>"
      ],
      "text/plain": [
       "    word  freq      P(w)\n",
       "0  AARON   413  0.000054\n",
       "1  ABABA   199  0.000026\n",
       "2  ABACK    64  0.000008\n",
       "3  ABATE    69  0.000009\n",
       "4  ABBAS   290  0.000038"
      ]
     },
     "execution_count": 4,
     "metadata": {},
     "output_type": "execute_result"
    }
   ],
   "source": [
    "data.head()"
   ]
  },
  {
   "cell_type": "code",
   "execution_count": null,
   "metadata": {},
   "outputs": [],
   "source": [
    "data.sort_values('P(w)', ascending=False).head(15)"
   ]
  },
  {
   "cell_type": "code",
   "execution_count": null,
   "metadata": {},
   "outputs": [],
   "source": [
    "data.sort_values('P(w)', ascending=True).head(14)"
   ]
  },
  {
   "cell_type": "markdown",
   "metadata": {},
   "source": [
    "### (b)"
   ]
  },
  {
   "cell_type": "code",
   "execution_count": 340,
   "metadata": {},
   "outputs": [],
   "source": [
    "def char_not_in(n_char,w):\n",
    "    if n_char=='':\n",
    "        return 1\n",
    "    elif bool(set(n_char).intersection(set(w))):\n",
    "        return 0\n",
    "    else:\n",
    "        return 1\n",
    "\n",
    "def char_is_in(p_char,w):\n",
    "    out = 1\n",
    "    s   = set()\n",
    "    for i in np.arange(0,5):\n",
    "        if p_char[i]==' ':\n",
    "            s.add(w[i])\n",
    "        elif p_char[i]!=w[i]:\n",
    "            out = out*0\n",
    "        else:\n",
    "            out = out*1\n",
    "        \n",
    "    if bool(set(p_char).intersection(s)):\n",
    "            out = out*0\n",
    "    return out\n",
    "            \n",
    "        \n",
    "\n",
    "\n",
    "def evi_given_w(p_char,n_char,w):\n",
    "    return (char_not_in(n_char,w) and char_is_in(p_char,w))\n",
    "\n",
    "\n",
    "def guess(g_char,p_char,w):\n",
    "    if set(g_char).issubset(set(p_char)):\n",
    "        return 0\n",
    "    elif set(g_char).issubset(set(w)):\n",
    "        return 1\n",
    "    else:\n",
    "        return 0\n",
    "        "
   ]
  },
  {
   "cell_type": "code",
   "execution_count": 378,
   "metadata": {},
   "outputs": [],
   "source": [
    "df=data[['word','P(w)']]"
   ]
  },
  {
   "cell_type": "code",
   "execution_count": 379,
   "metadata": {},
   "outputs": [],
   "source": [
    "def get_pred_single(p_char,n_char,g_char,df):\n",
    "    df.loc[:,'P(E|W=w)'] = df['word'].apply(lambda x: evi_given_w(p_char,n_char,x))\n",
    "    df.loc[:,'P(W=w|E)'] = (df['P(w)']*df['P(E|W=w)'])/sum(df['P(w)']*df['P(E|W=w)'])\n",
    "    df.loc[:,'P(Li=l)'] = df['word'].apply(lambda x: guess(g_char,p_char,x))\n",
    "    return sum(df['P(W=w|E)']*df['P(Li=l)'])"
   ]
  },
  {
   "cell_type": "code",
   "execution_count": 400,
   "metadata": {},
   "outputs": [],
   "source": [
    "def get_pred(p_char,n_char,df):\n",
    "    L='ABCDEFGHIJKLMNOPQRSTUVWXYZ'\n",
    "    pvec = np.zeros(26)\n",
    "    for i in np.arange(0,26):\n",
    "        pvec[i]=get_pred_single(p_char,n_char,L[i],df)\n",
    "    idx = np.argmax(pvec)\n",
    "    return [L[idx],pvec[idx]]\n",
    "    "
   ]
  },
  {
   "cell_type": "code",
   "execution_count": 402,
   "metadata": {},
   "outputs": [
    {
     "data": {
      "text/plain": [
       "['E', 0.53941723896479477]"
      ]
     },
     "execution_count": 402,
     "metadata": {},
     "output_type": "execute_result"
    }
   ],
   "source": [
    "p_char = '     '\n",
    "n_char = '     '\n",
    "\n",
    "get_pred(p_char,n_char,df)"
   ]
  },
  {
   "cell_type": "code",
   "execution_count": null,
   "metadata": {},
   "outputs": [],
   "source": []
  }
 ],
 "metadata": {
  "kernelspec": {
   "display_name": "Python 3",
   "language": "python",
   "name": "python3"
  },
  "language_info": {
   "codemirror_mode": {
    "name": "ipython",
    "version": 3
   },
   "file_extension": ".py",
   "mimetype": "text/x-python",
   "name": "python",
   "nbconvert_exporter": "python",
   "pygments_lexer": "ipython3",
   "version": "3.6.4"
  }
 },
 "nbformat": 4,
 "nbformat_minor": 2
}
