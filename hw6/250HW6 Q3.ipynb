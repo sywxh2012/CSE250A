{
 "cells": [
  {
   "cell_type": "code",
   "execution_count": 54,
   "metadata": {},
   "outputs": [],
   "source": [
    "import numpy as np\n",
    "import pandas as pd\n",
    "import matplotlib.pyplot as plt\n",
    "from numpy.linalg import *\n",
    "import math"
   ]
  },
  {
   "cell_type": "code",
   "execution_count": 61,
   "metadata": {},
   "outputs": [],
   "source": [
    "X = pd.read_csv('spectX.txt', sep=\" \", header=None)\n",
    "Y = pd.read_csv('spectY.txt', sep=\" \", header=None)\n",
    "X = X.values[:,:23]\n",
    "Y = Y.values"
   ]
  },
  {
   "cell_type": "code",
   "execution_count": 62,
   "metadata": {},
   "outputs": [],
   "source": [
    "p = 1/23*np.ones((23,1))"
   ]
  },
  {
   "cell_type": "code",
   "execution_count": 57,
   "metadata": {},
   "outputs": [],
   "source": [
    "def CalcProb(index, x, y, p):\n",
    "    xi = x[index]\n",
    "    pi = p[index,0]\n",
    "    denom = 1 - Calc_product(x,p)\n",
    "    return y*xi*pi/denom\n",
    "\n",
    "def Calc_product(x,p):\n",
    "    result = 1\n",
    "    for i in range(x.shape[0]):\n",
    "        result *= np.power((1-p[i,0]),x[i])\n",
    "    return result\n",
    "\n",
    "def EMUpdate(X,Y,p):\n",
    "    result = np.ones((23,1))\n",
    "    for i in range(p.shape[0]):   #for each pi\n",
    "        pi = 0\n",
    "        Ti = sum(X[:,i])\n",
    "        for j in range(X.shape[0]):   #for each row\n",
    "            prob = CalcProb(i, X[j,:], Y[j,0], p)\n",
    "            pi += prob\n",
    "        pi /= Ti\n",
    "        result[i,0] = pi\n",
    "    return result"
   ]
  },
  {
   "cell_type": "code",
   "execution_count": 58,
   "metadata": {},
   "outputs": [],
   "source": [
    "def ComputeLogLikelihood(X,Y,p):\n",
    "    T = X.shape[0]\n",
    "    result = 0\n",
    "    for i in range(T):\n",
    "        if Y[i,0] == 1:\n",
    "            result += np.log(1 - Calc_product(X[i,:],p))\n",
    "        else:\n",
    "            result += np.log(Calc_product(X[i,:],p))\n",
    "    result /= T\n",
    "    return result\n",
    "\n",
    "def CalcNumMistakes(X,Y,p):\n",
    "    T = X.shape[0]\n",
    "    count = 0\n",
    "    for i in range(T):\n",
    "        if Y[i,0]==0 and (1 - Calc_product(X[i,:],p)) >= 0.5:\n",
    "            count += 1\n",
    "        elif Y[i,0]==1 and (1 - Calc_product(X[i,:],p)) <= 0.5:\n",
    "            count += 1\n",
    "        else:\n",
    "            count = count\n",
    "    return count"
   ]
  },
  {
   "cell_type": "code",
   "execution_count": 63,
   "metadata": {},
   "outputs": [
    {
     "name": "stdout",
     "output_type": "stream",
     "text": [
      "iteration: 0likelihood: -1.04456mistakes: 195\n",
      "iteration: 1likelihood: -0.50494mistakes: 60\n",
      "iteration: 2likelihood: -0.41076mistakes: 43\n",
      "iteration: 4likelihood: -0.36513mistakes: 42\n",
      "iteration: 8likelihood: -0.34766mistakes: 44\n",
      "iteration: 16likelihood: -0.33468mistakes: 40\n",
      "iteration: 32likelihood: -0.32259mistakes: 37\n",
      "iteration: 64likelihood: -0.31483mistakes: 37\n",
      "iteration: 128likelihood: -0.31116mistakes: 36\n",
      "iteration: 256likelihood: -0.31016mistakes: 36\n"
     ]
    }
   ],
   "source": [
    "# 256 iterations of EM\n",
    "it = 257\n",
    "for i in range(it):\n",
    "    likelihood = ComputeLogLikelihood(X,Y,p)\n",
    "    mistakes = CalcNumMistakes(X,Y,p)\n",
    "    p = EMUpdate(X,Y,p)\n",
    "    if i in (0,1,2,4,8,16,32,64,128,256):\n",
    "        print('iteration: %d' % i + 'likelihood: %.5f' % likelihood + 'mistakes: %d' % mistakes)"
   ]
  }
 ],
 "metadata": {
  "kernelspec": {
   "display_name": "Python 3",
   "language": "python",
   "name": "python3"
  },
  "language_info": {
   "codemirror_mode": {
    "name": "ipython",
    "version": 3
   },
   "file_extension": ".py",
   "mimetype": "text/x-python",
   "name": "python",
   "nbconvert_exporter": "python",
   "pygments_lexer": "ipython3",
   "version": "3.6.5"
  }
 },
 "nbformat": 4,
 "nbformat_minor": 2
}
